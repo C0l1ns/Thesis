{
 "cells": [
  {
   "cell_type": "code",
   "execution_count": 1,
   "metadata": {},
   "outputs": [],
   "source": [
    "import pandas as pd\n",
    "import numpy as np\n",
    "from sklearn.preprocessing import MaxAbsScaler\n",
    "from sklearn.preprocessing import StandardScaler\n",
    "from sklearn.kernel_ridge import KernelRidge\n",
    "import math\n",
    "import time\n",
    "from sklearn.ensemble import GradientBoostingRegressor\n",
    "\n",
    "from sklearn.metrics import max_error\n",
    "from sklearn.metrics import mean_absolute_error\n",
    "from sklearn.metrics import mean_squared_error\n",
    "from sklearn.metrics import mean_absolute_percentage_error\n",
    "from sklearn.metrics import median_absolute_error\n",
    "from sklearn.metrics import r2_score\n",
    "from sklearn.model_selection import train_test_split"
   ]
  },
  {
   "cell_type": "code",
   "execution_count": 2,
   "metadata": {},
   "outputs": [],
   "source": [
    "import warnings\n",
    "warnings.filterwarnings('ignore')"
   ]
  },
  {
   "cell_type": "code",
   "execution_count": 3,
   "metadata": {},
   "outputs": [],
   "source": [
    "def preprocess_features(x1, x2, reversed=False):\n",
    "    x1_size, x2_size = len(x1), len(x2)\n",
    "    features = np.array([np.concatenate((x2[j][:-1], x1[i][:-1])) if reversed else np.concatenate((x1[i][:-1], x2[j][:-1])) \n",
    "                         for i in range(x1_size) for j in range(x2_size)])   \n",
    "    labels = np.array([(x2[j][-1] - x1[i][-1]) if reversed else (x1[i][-1] - x2[j][-1]) \n",
    "                       for i in range(x1_size) for j in range(x2_size)])\n",
    "    return features, labels"
   ]
  },
  {
   "cell_type": "code",
   "execution_count": 4,
   "metadata": {},
   "outputs": [],
   "source": [
    "def root_mean_squared_error(y_true, y_pred):\n",
    "    return np.sqrt(((y_pred - y_true) ** 2).mean())"
   ]
  },
  {
   "cell_type": "code",
   "execution_count": 5,
   "metadata": {},
   "outputs": [],
   "source": [
    "def find_yn(z, y_sum, N):\n",
    "    return np.array([(y_sum + sum(z[i: i + N])) / N for i in range(0, len(z), N)])"
   ]
  },
  {
   "cell_type": "code",
   "execution_count": 6,
   "metadata": {},
   "outputs": [],
   "source": [
    "def find_yn2(z1, z2, y_sum, N):\n",
    "    return np.array([(y_sum + (sum(z1[i: i + N]) - sum(z2[i: i + N])) / 2) / N for i in range(0, len(z1), N)])"
   ]
  },
  {
   "cell_type": "code",
   "execution_count": 7,
   "metadata": {},
   "outputs": [],
   "source": [
    "# train_data = pd.read_csv(\"./datasets/train_energy_eff_Y1.csv\").drop(['Unnamed: 0'],axis=1).to_numpy()\n",
    "# test_data = pd.read_csv(\"./datasets/test_energy_eff_Y1.csv\").drop(['Unnamed: 0'],axis=1).to_numpy()"
   ]
  },
  {
   "cell_type": "code",
   "execution_count": 8,
   "metadata": {},
   "outputs": [],
   "source": [
    "# train_data = np.loadtxt(\"./datasets/Nzone1_train.txt\",delimiter=',')\n",
    "# test_data = np.loadtxt(\"./datasets/Nzone1_test.txt\",delimiter=',')\n",
    "\n",
    "data = pd.read_csv(\"./datasets/ENB2012_data.csv\").to_numpy()\n",
    "X_train, X_test, y_train, y_test = train_test_split(data[:,:-1],data[:,-1:],test_size=0.2, random_state=42)\n",
    "train_data = np.concatenate((X_train, y_train), axis=1)\n",
    "test_data = np.concatenate((X_test, y_test), axis=1)"
   ]
  },
  {
   "cell_type": "code",
   "execution_count": 9,
   "metadata": {},
   "outputs": [],
   "source": [
    "y_sum = sum([a[-1] for a in train_data])\n",
    "N = len(train_data)\n",
    "y_target_test = np.array([a[-1] for a in test_data])\n",
    "y_target_train = np.array([a[-1] for a in train_data])"
   ]
  },
  {
   "cell_type": "code",
   "execution_count": 10,
   "metadata": {},
   "outputs": [],
   "source": [
    "train_features, train_labels = preprocess_features(train_data, train_data)\n",
    "train_features2, train_labels2 = preprocess_features(train_data, train_data, reversed=True)\n",
    "test_features, test_labels = preprocess_features(test_data, train_data)\n",
    "test_features2, test_labels2 = preprocess_features(test_data, train_data, reversed=True)"
   ]
  },
  {
   "cell_type": "code",
   "execution_count": 11,
   "metadata": {},
   "outputs": [],
   "source": [
    "scaler = MaxAbsScaler()\n",
    "scaler.fit(train_features)\n",
    "train_features = scaler.transform(train_features)\n",
    "train_features2 = scaler.transform(train_features2)\n",
    "test_features = scaler.transform(test_features)\n",
    "test_features2 = scaler.transform(test_features2)"
   ]
  },
  {
   "cell_type": "markdown",
   "metadata": {},
   "source": [
    "### SVR подвоєння входів"
   ]
  },
  {
   "cell_type": "code",
   "execution_count": 12,
   "metadata": {},
   "outputs": [],
   "source": [
    "from sklearn.svm import SVR\n",
    "svr = SVR(kernel='rbf', gamma='scale', coef0=0.0, epsilon=0.001, max_iter=-1)\n",
    "\n",
    "start_time = time.time()\n",
    "svr.fit(train_features, train_labels)\n",
    "print(\"--- %s seconds ---\" % (time.time() - start_time))\n",
    "\n",
    "train_pred_z1 = svr.predict(train_features)\n",
    "train_pred_z2 = svr.predict(train_features2)\n",
    "\n",
    "pred_z1 = svr.predict(test_features)\n",
    "pred_z2 = svr.predict(test_features2)\n",
    "\n",
    "yn_train = find_yn(train_pred_z1, y_sum, N)\n",
    "yn_test = find_yn(pred_z1, y_sum, N)\n",
    "\n",
    "print('Training erros func1:')\n",
    "print(\"MAPE: \" + str(mean_absolute_percentage_error(y_target_train, yn_train)))\n",
    "print(\"RMSE: \" + str(root_mean_squared_error(y_target_train, yn_train)))\n",
    "print(\"MAE: \" + str(mean_absolute_error(y_target_train, yn_train)))\n",
    "print(\"Max error: \" + str(max_error(y_target_train, yn_train)))\n",
    "print(\"Median absolute error: \" + str(median_absolute_error(y_target_train, yn_train)))\n",
    "print(\"Mean Squared error: \" + str(mean_squared_error(y_target_train, yn_train)))\n",
    "print(\"R2: \" + str(r2_score(y_target_train, yn_train)))\n",
    "print()\n",
    "print('Testing errors func1:')\n",
    "print(\"MAPE: \" + str(mean_absolute_percentage_error(y_target_test, yn_test)))\n",
    "print(\"RMSE: \" + str(root_mean_squared_error(y_target_test, yn_test)))\n",
    "print(\"MAE: \" + str(mean_absolute_error(y_target_test, yn_test)))\n",
    "print(\"Max error: \" + str(max_error(y_target_test, yn_test)))\n",
    "print(\"Median absolute error: \" + str(median_absolute_error(y_target_test, yn_test)))\n",
    "print(\"Mean Squared error: \" + str(mean_squared_error(y_target_test, yn_test)))\n",
    "print(\"R2: \" + str(r2_score(y_target_test, yn_test)))\n",
    "print()\n",
    "print(\"Train errors\")\n",
    "print(str(mean_absolute_percentage_error(y_target_train, yn_train)))\n",
    "print(str(root_mean_squared_error(y_target_train, yn_train)))\n",
    "print(str(mean_absolute_error(y_target_train, yn_train)))\n",
    "print(str(max_error(y_target_train, yn_train)))\n",
    "print(str(median_absolute_error(y_target_train, yn_train)))\n",
    "print(str(mean_squared_error(y_target_train, yn_train)))\n",
    "print(str(r2_score(y_target_train, yn_train)))\n",
    "print()\n",
    "print('Testing errors func:')\n",
    "print(str(mean_absolute_percentage_error(y_target_test, yn_test)))\n",
    "print(str(root_mean_squared_error(y_target_test, yn_test)))\n",
    "print(str(mean_absolute_error(y_target_test, yn_test)))\n",
    "print(str(max_error(y_target_test, yn_test)))\n",
    "print(str(median_absolute_error(y_target_test, yn_test)))\n",
    "print(str(mean_squared_error(y_target_test, yn_test)))\n",
    "print(str(r2_score(y_target_test, yn_test)))"
   ]
  },
  {
   "cell_type": "code",
   "execution_count": null,
   "metadata": {},
   "outputs": [],
   "source": [
    "X_train, y_train = train_data[:,:-1],train_data[:,-1:]\n",
    "X_test, y_test = test_data[:,:-1],test_data[:,-1:]"
   ]
  },
  {
   "cell_type": "markdown",
   "metadata": {},
   "source": [
    "### SVR класичне"
   ]
  },
  {
   "cell_type": "code",
   "execution_count": null,
   "metadata": {},
   "outputs": [
    {
     "name": "stdout",
     "output_type": "stream",
     "text": [
      "--- 0.002000093460083008 seconds ---\n",
      "Training erros func1:\n",
      "MAPE: 0.23520271675269883\n",
      "RMSE: 42.95488357766631\n",
      "MAE: 30.636904469051444\n",
      "Max error: 103.23693656449555\n",
      "Median absolute error: 32.151552763520044\n",
      "Mean Squared error: 1351.323055495604\n",
      "R2: 0.23870839220772255\n",
      "\n",
      "Testing errors func1:\n",
      "MAPE: 0.22082769123161244\n",
      "RMSE: 38.636350934540495\n",
      "MAE: 27.963122705568367\n",
      "Max error: 51.445178913581344\n",
      "Median absolute error: 27.439125415930754\n",
      "Mean Squared error: 1081.7079834234773\n",
      "R2: 0.25535027025038737\n",
      "\n",
      "Train errors\n",
      "0.23520271675269883\n",
      "42.95488357766631\n",
      "30.636904469051444\n",
      "103.23693656449555\n",
      "32.151552763520044\n",
      "1351.323055495604\n",
      "0.23870839220772255\n",
      "\n",
      "Testing errors func:\n",
      "0.22082769123161244\n",
      "38.636350934540495\n",
      "27.963122705568367\n",
      "51.445178913581344\n",
      "27.439125415930754\n",
      "1081.7079834234773\n",
      "0.25535027025038737\n"
     ]
    }
   ],
   "source": [
    "from sklearn.svm import SVR\n",
    "svr = SVR(kernel='rbf', gamma='scale', coef0=0.0, epsilon=0.001, max_iter=-1)\n",
    "\n",
    "start_time = time.time()\n",
    "svr.fit(X_train, y_train)\n",
    "print(\"--- %s seconds ---\" % (time.time() - start_time))\n",
    "\n",
    "pred_train = svr.predict(X_train)\n",
    "\n",
    "pred_test = svr.predict(X_test)\n",
    "\n",
    "print('Training erros func1:')\n",
    "print(\"MAPE: \" + str(mean_absolute_percentage_error(y_train, pred_train)))\n",
    "print(\"RMSE: \" + str(root_mean_squared_error(y_train, pred_train)))\n",
    "print(\"MAE: \" + str(mean_absolute_error(y_train, pred_train)))\n",
    "print(\"Max error: \" + str(max_error(y_train, pred_train)))\n",
    "print(\"Median absolute error: \" + str(median_absolute_error(y_train, pred_train)))\n",
    "print(\"Mean Squared error: \" + str(mean_squared_error(y_train, pred_train)))\n",
    "print(\"R2: \" + str(r2_score(y_train, pred_train)))\n",
    "print()\n",
    "print('Testing errors func1:')\n",
    "print(\"MAPE: \" + str(mean_absolute_percentage_error(y_test, pred_test)))\n",
    "print(\"RMSE: \" + str(root_mean_squared_error(y_test, pred_test)))\n",
    "print(\"MAE: \" + str(mean_absolute_error(y_test, pred_test)))\n",
    "print(\"Max error: \" + str(max_error(y_test, pred_test)))\n",
    "print(\"Median absolute error: \" + str(median_absolute_error(y_test, pred_test)))\n",
    "print(\"Mean Squared error: \" + str(mean_squared_error(y_test, pred_test)))\n",
    "print(\"R2: \" + str(r2_score(y_test, pred_test)))\n",
    "print()\n",
    "print(\"Train errors\")\n",
    "print(str(mean_absolute_percentage_error(y_train, pred_train)))\n",
    "print(str(root_mean_squared_error(y_train, pred_train)))\n",
    "print(str(mean_absolute_error(y_train, pred_train)))\n",
    "print(str(max_error(y_train, pred_train)))\n",
    "print(str(median_absolute_error(y_train, pred_train)))\n",
    "print(str(mean_squared_error(y_train, pred_train)))\n",
    "print(str(r2_score(y_train, pred_train)))\n",
    "print()\n",
    "print('Testing errors func:')\n",
    "print(str(mean_absolute_percentage_error(y_test, pred_test)))\n",
    "print(str(root_mean_squared_error(y_test, pred_test)))\n",
    "print(str(mean_absolute_error(y_test, pred_test)))\n",
    "print(str(max_error(y_test, pred_test)))\n",
    "print(str(median_absolute_error(y_test, pred_test)))\n",
    "print(str(mean_squared_error(y_test, pred_test)))\n",
    "print(str(r2_score(y_test, pred_test)))"
   ]
  }
 ],
 "metadata": {
  "kernelspec": {
   "display_name": "Python 3 (ipykernel)",
   "language": "python",
   "name": "python3"
  },
  "language_info": {
   "codemirror_mode": {
    "name": "ipython",
    "version": 3
   },
   "file_extension": ".py",
   "mimetype": "text/x-python",
   "name": "python",
   "nbconvert_exporter": "python",
   "pygments_lexer": "ipython3",
   "version": "3.10.5"
  }
 },
 "nbformat": 4,
 "nbformat_minor": 4
}
