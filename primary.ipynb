{
 "cells": [
  {
   "cell_type": "code",
   "execution_count": 1,
   "metadata": {},
   "outputs": [],
   "source": [
    "import pandas as pd\n",
    "import numpy as np\n",
    "from sklearn.preprocessing import MaxAbsScaler\n",
    "from sklearn.preprocessing import StandardScaler\n",
    "from sklearn.kernel_ridge import KernelRidge\n",
    "import math\n",
    "import time\n",
    "\n",
    "from sklearn.metrics import max_error\n",
    "from sklearn.metrics import mean_absolute_error\n",
    "from sklearn.metrics import mean_squared_error\n",
    "from sklearn.metrics import mean_absolute_percentage_error\n",
    "from sklearn.metrics import median_absolute_error\n",
    "from sklearn.metrics import r2_score"
   ]
  },
  {
   "cell_type": "code",
   "execution_count": 2,
   "metadata": {},
   "outputs": [],
   "source": [
    "def preprocess_features(x1, x2, reversed=False):\n",
    "    x1_size, x2_size = len(x1), len(x2)\n",
    "    features = np.array([np.concatenate((x2[j][:-1], x1[i][:-1])) if reversed else np.concatenate((x1[i][:-1], x2[j][:-1])) \n",
    "                         for i in range(x1_size) for j in range(x2_size)])   \n",
    "    labels = np.array([(x2[j][-1] - x1[i][-1]) if reversed else (x1[i][-1] - x2[j][-1]) \n",
    "                       for i in range(x1_size) for j in range(x2_size)])\n",
    "    return features, labels"
   ]
  },
  {
   "cell_type": "code",
   "execution_count": 3,
   "metadata": {},
   "outputs": [],
   "source": [
    "# def mean_absolute_percentage_error_v2(y_true, y_pred): \n",
    "#     y_true, y_pred = np.array(y_true), np.array(y_pred)\n",
    "#     return np.mean(np.abs((y_true - y_pred) / y_true)) * 100\n",
    "  \n",
    "# def symmetric_mean_absolute_percentage_error(y_true, y_pred):\n",
    "#     y_true, y_pred = np.array(y_true), np.array(y_pred)\n",
    "#     return np.sum(np.abs(y_true - y_pred)) / np.sum(y_pred + y_true)\n",
    "\n",
    "def root_mean_squared_error(y_true, y_pred):\n",
    "    return np.sqrt(((y_pred - y_true) ** 2).mean())\n",
    "\n",
    "# def mean_absolute_error(y_true, y_pred):\n",
    "#     y_true, y_pred = np.array(y_true), np.array(y_pred)\n",
    "#     return np.mean(np.abs(y_true - y_pred))\n"
   ]
  },
  {
   "cell_type": "code",
   "execution_count": 4,
   "metadata": {},
   "outputs": [],
   "source": [
    "def find_yn(z, y_sum, N):\n",
    "    return np.array([(y_sum + sum(z[i: i + N])) / N for i in range(0, len(z), N)])"
   ]
  },
  {
   "cell_type": "code",
   "execution_count": 5,
   "metadata": {},
   "outputs": [],
   "source": [
    "def find_yn2(z1, z2, y_sum, N):\n",
    "    return np.array([(y_sum + (sum(z1[i: i + N]) - sum(z2[i: i + N])) / 2) / N for i in range(0, len(z1), N)])"
   ]
  },
  {
   "cell_type": "code",
   "execution_count": 6,
   "metadata": {},
   "outputs": [],
   "source": [
    "# train_data = pd.read_csv(\"./datasets/train_energy_eff_Y1.csv\").drop(['Unnamed: 0'],axis=1).to_numpy()\n",
    "# test_data = pd.read_csv(\"./datasets/test_energy_eff_Y1.csv\").drop(['Unnamed: 0'],axis=1).to_numpy()"
   ]
  },
  {
   "cell_type": "code",
   "execution_count": 7,
   "metadata": {},
   "outputs": [],
   "source": [
    "train_data = np.loadtxt(\"./datasets/BodyFat_train.txt\",delimiter=',')\n",
    "test_data = np.loadtxt(\"./datasets/BodyFat_test.txt\",delimiter=',')"
   ]
  },
  {
   "cell_type": "code",
   "execution_count": 8,
   "metadata": {},
   "outputs": [],
   "source": [
    "y_sum = sum([a[-1] for a in train_data])\n",
    "N = len(train_data)\n",
    "y_target_test = np.array([a[-1] for a in test_data])\n",
    "y_target_train = np.array([a[-1] for a in train_data])"
   ]
  },
  {
   "cell_type": "code",
   "execution_count": 9,
   "metadata": {},
   "outputs": [],
   "source": [
    "train_features, train_labels = preprocess_features(train_data, train_data)\n",
    "train_features2, train_labels2 = preprocess_features(train_data, train_data, reversed=True)\n",
    "test_features, test_labels = preprocess_features(test_data, train_data)\n",
    "test_features2, test_labels2 = preprocess_features(test_data, train_data, reversed=True)"
   ]
  },
  {
   "cell_type": "code",
   "execution_count": 10,
   "metadata": {},
   "outputs": [],
   "source": [
    "scaler = MaxAbsScaler()\n",
    "scaler.fit(train_features)\n",
    "train_features = scaler.transform(train_features)\n",
    "train_features2 = scaler.transform(train_features2)\n",
    "test_features = scaler.transform(test_features)\n",
    "test_features2 = scaler.transform(test_features2)"
   ]
  },
  {
   "cell_type": "code",
   "execution_count": 11,
   "metadata": {},
   "outputs": [
    {
     "name": "stdout",
     "output_type": "stream",
     "text": [
      "--- 101.97428154945374 seconds ---\n",
      "Training erros func1:\n",
      "MAPE: 73208537370276.45\n",
      "RMSE: 3.584112658175075\n",
      "MAE: 2.787269950074675\n",
      "Max error: 9.447897994281202\n",
      "Median absolute error: 2.2929582542261278\n",
      "Mean Squared error: 12.845863546490802\n",
      "R2: 0.8151762355355048\n",
      "\n",
      "Testing errors func1:\n",
      "MAPE: 0.4657605445129911\n",
      "RMSE: 4.753931571471416\n",
      "MAE: 4.09769466088785\n",
      "Max error: 10.374430319435408\n",
      "Median absolute error: 4.069808299756339\n",
      "Mean Squared error: 22.599865386232683\n",
      "R2: 0.6779009972544756\n",
      "\n",
      "Train errors\n",
      "73208537370276.45\n",
      "3.584112658175075\n",
      "2.787269950074675\n",
      "9.447897994281202\n",
      "2.2929582542261278\n",
      "12.845863546490802\n",
      "0.8151762355355048\n",
      "\n",
      "Testing errors func:\n",
      "0.4657605445129911\n",
      "4.753931571471416\n",
      "4.09769466088785\n",
      "10.374430319435408\n",
      "4.069808299756339\n",
      "22.599865386232683\n",
      "0.6779009972544756\n"
     ]
    }
   ],
   "source": [
    "from sklearn.svm import SVR\n",
    "svr = SVR(kernel='rbf', gamma='scale', coef0=0.0, epsilon=0.001, max_iter=-1)\n",
    "\n",
    "start_time = time.time()\n",
    "svr.fit(train_features, train_labels)\n",
    "print(\"--- %s seconds ---\" % (time.time() - start_time))\n",
    "\n",
    "train_pred_z1 = svr.predict(train_features)\n",
    "train_pred_z2 = svr.predict(train_features2)\n",
    "\n",
    "pred_z1 = svr.predict(test_features)\n",
    "pred_z2 = svr.predict(test_features2)\n",
    "\n",
    "yn_train = find_yn(train_pred_z1, y_sum, N)\n",
    "yn_test = find_yn(pred_z1, y_sum, N)\n",
    "\n",
    "print('Training erros func1:')\n",
    "print(\"MAPE: \" + str(mean_absolute_percentage_error(y_target_train, yn_train)))\n",
    "print(\"RMSE: \" + str(root_mean_squared_error(y_target_train, yn_train)))\n",
    "print(\"MAE: \" + str(mean_absolute_error(y_target_train, yn_train)))\n",
    "print(\"Max error: \" + str(max_error(y_target_train, yn_train)))\n",
    "print(\"Median absolute error: \" + str(median_absolute_error(y_target_train, yn_train)))\n",
    "print(\"Mean Squared error: \" + str(mean_squared_error(y_target_train, yn_train)))\n",
    "print(\"R2: \" + str(r2_score(y_target_train, yn_train)))\n",
    "print()\n",
    "print('Testing errors func1:')\n",
    "print(\"MAPE: \" + str(mean_absolute_percentage_error(y_target_test, yn_test)))\n",
    "print(\"RMSE: \" + str(root_mean_squared_error(y_target_test, yn_test)))\n",
    "print(\"MAE: \" + str(mean_absolute_error(y_target_test, yn_test)))\n",
    "print(\"Max error: \" + str(max_error(y_target_test, yn_test)))\n",
    "print(\"Median absolute error: \" + str(median_absolute_error(y_target_test, yn_test)))\n",
    "print(\"Mean Squared error: \" + str(mean_squared_error(y_target_test, yn_test)))\n",
    "print(\"R2: \" + str(r2_score(y_target_test, yn_test)))\n",
    "print()\n",
    "print(\"Train errors\")\n",
    "print(str(mean_absolute_percentage_error(y_target_train, yn_train)))\n",
    "print(str(root_mean_squared_error(y_target_train, yn_train)))\n",
    "print(str(mean_absolute_error(y_target_train, yn_train)))\n",
    "print(str(max_error(y_target_train, yn_train)))\n",
    "print(str(median_absolute_error(y_target_train, yn_train)))\n",
    "print(str(mean_squared_error(y_target_train, yn_train)))\n",
    "print(str(r2_score(y_target_train, yn_train)))\n",
    "print()\n",
    "print('Testing errors func:')\n",
    "print(str(mean_absolute_percentage_error(y_target_test, yn_test)))\n",
    "print(str(root_mean_squared_error(y_target_test, yn_test)))\n",
    "print(str(mean_absolute_error(y_target_test, yn_test)))\n",
    "print(str(max_error(y_target_test, yn_test)))\n",
    "print(str(median_absolute_error(y_target_test, yn_test)))\n",
    "print(str(mean_squared_error(y_target_test, yn_test)))\n",
    "print(str(r2_score(y_target_test, yn_test)))"
   ]
  },
  {
   "cell_type": "code",
   "execution_count": 12,
   "metadata": {},
   "outputs": [],
   "source": [
    "X_train, y_train = train_data[:,:-1],train_data[:,-1:]\n",
    "X_test, y_test = test_data[:,:-1],test_data[:,-1:]"
   ]
  },
  {
   "cell_type": "code",
   "execution_count": 13,
   "metadata": {},
   "outputs": [
    {
     "name": "stdout",
     "output_type": "stream",
     "text": [
      "--- 0.02000260353088379 seconds ---\n",
      "Training erros func1:\n",
      "MAPE: 271962226009243.03\n",
      "RMSE: 9.029176760928937\n",
      "MAE: 5.202278713502715\n",
      "Max error: 21.520646430069927\n",
      "Median absolute error: 4.747072020659871\n",
      "Mean Squared error: 40.29306402902694\n",
      "R2: 0.4202712998856287\n",
      "\n",
      "Testing errors func1:\n",
      "MAPE: 0.7658565735990337\n",
      "RMSE: 9.022797305874603\n",
      "MAE: 5.28410149029656\n",
      "Max error: 14.709468660238038\n",
      "Median absolute error: 5.093426785972628\n",
      "Mean Squared error: 41.998015506751365\n",
      "R2: 0.40143365100500406\n",
      "\n",
      "Train errors\n",
      "271962226009243.03\n",
      "9.029176760928937\n",
      "5.202278713502715\n",
      "21.520646430069927\n",
      "4.747072020659871\n",
      "40.29306402902694\n",
      "0.4202712998856287\n",
      "\n",
      "Testing errors func:\n",
      "0.7658565735990337\n",
      "9.022797305874603\n",
      "5.28410149029656\n",
      "14.709468660238038\n",
      "5.093426785972628\n",
      "41.998015506751365\n",
      "0.40143365100500406\n"
     ]
    },
    {
     "name": "stderr",
     "output_type": "stream",
     "text": [
      "C:\\Users\\taras\\AppData\\Roaming\\Python\\Python310\\site-packages\\sklearn\\utils\\validation.py:1143: DataConversionWarning: A column-vector y was passed when a 1d array was expected. Please change the shape of y to (n_samples, ), for example using ravel().\n",
      "  y = column_or_1d(y, warn=True)\n"
     ]
    }
   ],
   "source": [
    "from sklearn.svm import SVR\n",
    "svr = SVR(kernel='rbf', gamma='scale', coef0=0.0, epsilon=0.001, max_iter=-1)\n",
    "\n",
    "start_time = time.time()\n",
    "svr.fit(X_train, y_train)\n",
    "print(\"--- %s seconds ---\" % (time.time() - start_time))\n",
    "\n",
    "pred_train = svr.predict(X_train)\n",
    "\n",
    "pred_test = svr.predict(X_test)\n",
    "\n",
    "print('Training erros func1:')\n",
    "print(\"MAPE: \" + str(mean_absolute_percentage_error(y_train, pred_train)))\n",
    "print(\"RMSE: \" + str(root_mean_squared_error(y_train, pred_train)))\n",
    "print(\"MAE: \" + str(mean_absolute_error(y_train, pred_train)))\n",
    "print(\"Max error: \" + str(max_error(y_train, pred_train)))\n",
    "print(\"Median absolute error: \" + str(median_absolute_error(y_train, pred_train)))\n",
    "print(\"Mean Squared error: \" + str(mean_squared_error(y_train, pred_train)))\n",
    "print(\"R2: \" + str(r2_score(y_train, pred_train)))\n",
    "print()\n",
    "print('Testing errors func1:')\n",
    "print(\"MAPE: \" + str(mean_absolute_percentage_error(y_test, pred_test)))\n",
    "print(\"RMSE: \" + str(root_mean_squared_error(y_test, pred_test)))\n",
    "print(\"MAE: \" + str(mean_absolute_error(y_test, pred_test)))\n",
    "print(\"Max error: \" + str(max_error(y_test, pred_test)))\n",
    "print(\"Median absolute error: \" + str(median_absolute_error(y_test, pred_test)))\n",
    "print(\"Mean Squared error: \" + str(mean_squared_error(y_test, pred_test)))\n",
    "print(\"R2: \" + str(r2_score(y_test, pred_test)))\n",
    "print()\n",
    "print(\"Train errors\")\n",
    "print(str(mean_absolute_percentage_error(y_train, pred_train)))\n",
    "print(str(root_mean_squared_error(y_train, pred_train)))\n",
    "print(str(mean_absolute_error(y_train, pred_train)))\n",
    "print(str(max_error(y_train, pred_train)))\n",
    "print(str(median_absolute_error(y_train, pred_train)))\n",
    "print(str(mean_squared_error(y_train, pred_train)))\n",
    "print(str(r2_score(y_train, pred_train)))\n",
    "print()\n",
    "print('Testing errors func:')\n",
    "print(str(mean_absolute_percentage_error(y_test, pred_test)))\n",
    "print(str(root_mean_squared_error(y_test, pred_test)))\n",
    "print(str(mean_absolute_error(y_test, pred_test)))\n",
    "print(str(max_error(y_test, pred_test)))\n",
    "print(str(median_absolute_error(y_test, pred_test)))\n",
    "print(str(mean_squared_error(y_test, pred_test)))\n",
    "print(str(r2_score(y_test, pred_test)))"
   ]
  }
 ],
 "metadata": {
  "kernelspec": {
   "display_name": "Python 3 (ipykernel)",
   "language": "python",
   "name": "python3"
  },
  "language_info": {
   "codemirror_mode": {
    "name": "ipython",
    "version": 3
   },
   "file_extension": ".py",
   "mimetype": "text/x-python",
   "name": "python",
   "nbconvert_exporter": "python",
   "pygments_lexer": "ipython3",
   "version": "3.10.5"
  }
 },
 "nbformat": 4,
 "nbformat_minor": 4
}
