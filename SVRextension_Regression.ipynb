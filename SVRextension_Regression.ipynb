{
 "cells": [
  {
   "cell_type": "code",
   "execution_count": 7,
   "metadata": {},
   "outputs": [],
   "source": [
    "import pandas as pd\n",
    "import numpy as np\n",
    "from sklearn.preprocessing import MaxAbsScaler\n",
    "from sklearn.preprocessing import StandardScaler\n",
    "from sklearn.kernel_ridge import KernelRidge\n",
    "import math\n",
    "import time\n",
    "from sklearn.metrics import r2_score"
   ]
  },
  {
   "cell_type": "code",
   "execution_count": 8,
   "metadata": {},
   "outputs": [],
   "source": [
    "def preprocess_features(x1, x2, reversed=False):\n",
    "    x1_size, x2_size = len(x1), len(x2)\n",
    "    features = np.array([np.concatenate((x2[j][:-1], x1[i][:-1])) if reversed else np.concatenate((x1[i][:-1], x2[j][:-1])) \n",
    "                         for i in range(x1_size) for j in range(x2_size)])   \n",
    "    labels = np.array([(x2[j][-1] - x1[i][-1]) if reversed else (x1[i][-1] - x2[j][-1]) \n",
    "                       for i in range(x1_size) for j in range(x2_size)])\n",
    "    return features, labels"
   ]
  },
  {
   "cell_type": "code",
   "execution_count": 9,
   "metadata": {},
   "outputs": [],
   "source": [
    "def mean_absolute_percentage_error(y_true, y_pred): \n",
    "    y_true, y_pred = np.array(y_true), np.array(y_pred)\n",
    "    return np.mean(np.abs((y_true - y_pred) / y_true)) * 100\n",
    "  \n",
    "def symmetric_mean_absolute_percentage_error(y_true, y_pred):\n",
    "    y_true, y_pred = np.array(y_true), np.array(y_pred)\n",
    "    return np.sum(np.abs(y_true - y_pred)) / np.sum(y_pred + y_true)\n",
    "\n",
    "def root_mean_squared_error(y_true, y_pred):\n",
    "    return np.sqrt(((y_pred - y_true) ** 2).mean())\n",
    "\n",
    "def mean_absolute_error(y_true, y_pred):\n",
    "    y_true, y_pred = np.array(y_true), np.array(y_pred)\n",
    "    return np.mean(np.abs(y_true - y_pred))\n"
   ]
  },
  {
   "cell_type": "code",
   "execution_count": 10,
   "metadata": {},
   "outputs": [],
   "source": [
    "def find_yn(z, y_sum, N):\n",
    "    return np.array([(y_sum + sum(z[i: i + N])) / N for i in range(0, len(z), N)])"
   ]
  },
  {
   "cell_type": "code",
   "execution_count": 11,
   "metadata": {},
   "outputs": [],
   "source": [
    "def find_yn2(z1, z2, y_sum, N):\n",
    "    return np.array([(y_sum + (sum(z1[i: i + N]) - sum(z2[i: i + N])) / 2) / N for i in range(0, len(z1), N)])"
   ]
  },
  {
   "cell_type": "code",
   "execution_count": 12,
   "metadata": {},
   "outputs": [],
   "source": [
    "train_data = np.loadtxt(\"OBDTrain.txt\",delimiter=',')\n",
    "test_data = np.loadtxt(\"OBDTest.txt\",delimiter=',')\n"
   ]
  },
  {
   "cell_type": "code",
   "execution_count": 13,
   "metadata": {},
   "outputs": [],
   "source": [
    "y_sum = sum([a[-1] for a in train_data])\n",
    "N = len(train_data)\n",
    "y_target_test = np.array([a[-1] for a in test_data])\n",
    "y_target_train = np.array([a[-1] for a in train_data])"
   ]
  },
  {
   "cell_type": "code",
   "execution_count": 14,
   "metadata": {},
   "outputs": [],
   "source": [
    "train_features, train_labels = preprocess_features(train_data, train_data)\n",
    "train_features2, train_labels2 = preprocess_features(train_data, train_data, reversed=True)\n",
    "test_features, test_labels = preprocess_features(test_data, train_data)\n",
    "test_features2, test_labels2 = preprocess_features(test_data, train_data, reversed=True)"
   ]
  },
  {
   "cell_type": "code",
   "execution_count": 15,
   "metadata": {},
   "outputs": [],
   "source": [
    "scaler = MaxAbsScaler()\n",
    "scaler.fit(train_features)\n",
    "train_features = scaler.transform(train_features)\n",
    "train_features2 = scaler.transform(train_features2)\n",
    "test_features = scaler.transform(test_features)\n",
    "test_features2 = scaler.transform(test_features2)"
   ]
  },
  {
   "cell_type": "code",
   "execution_count": 16,
   "metadata": {},
   "outputs": [
    {
     "name": "stdout",
     "output_type": "stream",
     "text": [
      "--- 0.09810900688171387 seconds ---\n",
      "Training erros func1:\n",
      "MAPE: 37.52775353627084\n",
      "RMSE: 4.453318408511998\n",
      "MAE: 3.7574438408510753\n",
      "R2: 0.6286745349777887\n",
      "\n",
      "Testing errors func1:\n",
      "MAPE: 56.204199381974895\n",
      "RMSE: 5.744623071208204\n",
      "MAE: 4.569139727910909\n",
      "R2: 0.24356526281385127\n",
      "\n",
      "\n",
      "Training erros func2:\n",
      "MAPE: 37.52841933712254\n",
      "RMSE: 4.453308780479925\n",
      "MAE: 3.757443092977295\n",
      "R2: 0.6286761405803054\n",
      "\n",
      "Testing errors func2:\n",
      "MAPE: 56.205171965290965\n",
      "RMSE: 5.74469900467552\n",
      "MAE: 4.569204342297977\n",
      "R2: 0.24354526529920195\n",
      "\n",
      "\n",
      "\n",
      "\n",
      "\n",
      "\n"
     ]
    }
   ],
   "source": [
    "from sklearn.svm import SVR\n",
    "svr = SVR(kernel='rbf', gamma='scale', coef0=0.0, epsilon=0.001, max_iter=-1)\n",
    "\n",
    "start_time = time.time()\n",
    "svr.fit(train_features, train_labels)\n",
    "print(\"--- %s seconds ---\" % (time.time() - start_time))\n",
    "\n",
    "train_pred_z1 = svr.predict(train_features)\n",
    "train_pred_z2 = svr.predict(train_features2)\n",
    "\n",
    "pred_z1 = svr.predict(test_features)\n",
    "pred_z2 = svr.predict(test_features2)\n",
    "\n",
    "yn_train = find_yn(train_pred_z1, y_sum, N)\n",
    "yn_test = find_yn(pred_z1, y_sum, N)\n",
    "\n",
    "yn_train2 = find_yn2(train_pred_z1, train_pred_z2, y_sum, N)\n",
    "yn_test2 = find_yn2(pred_z1, pred_z2, y_sum, N)\n",
    "    \n",
    "print('Training erros func1:')\n",
    "print(\"MAPE: \" + str(mean_absolute_percentage_error(y_target_train, yn_train)))\n",
    "print(\"RMSE: \" + str(root_mean_squared_error(y_target_train, yn_train)))\n",
    "print(\"MAE: \" + str(mean_absolute_error(y_target_train, yn_train)))\n",
    "print(\"R2: \" + str(r2_score(y_target_train, yn_train)))\n",
    "print()\n",
    "print('Testing errors func1:')\n",
    "print(\"MAPE: \" + str(mean_absolute_percentage_error(y_target_test, yn_test)))\n",
    "print(\"RMSE: \" + str(root_mean_squared_error(y_target_test, yn_test)))\n",
    "print(\"MAE: \" + str(mean_absolute_error(y_target_test, yn_test)))\n",
    "print(\"R2: \" + str(r2_score(y_target_test, yn_test)))\n",
    "print()\n",
    "print()\n",
    "print('Training erros func2:')\n",
    "print(\"MAPE: \" + str(mean_absolute_percentage_error(y_target_train, yn_train2)))\n",
    "print(\"RMSE: \" + str(root_mean_squared_error(y_target_train, yn_train2)))\n",
    "print(\"MAE: \" + str(mean_absolute_error(y_target_train, yn_train2)))\n",
    "print(\"R2: \" + str(r2_score(y_target_train, yn_train2)))\n",
    "print()\n",
    "print('Testing errors func2:')\n",
    "print(\"MAPE: \" + str(mean_absolute_percentage_error(y_target_test, yn_test2)))\n",
    "print(\"RMSE: \" + str(root_mean_squared_error(y_target_test, yn_test2)))\n",
    "print(\"MAE: \" + str(mean_absolute_error(y_target_test, yn_test2)))\n",
    "print(\"R2: \" + str(r2_score(y_target_test, yn_test2)))\n",
    "print()\n",
    "print()\n",
    "print()\n",
    "print()\n",
    "print()\n",
    "print()"
   ]
  },
  {
   "cell_type": "code",
   "execution_count": null,
   "metadata": {},
   "outputs": [],
   "source": []
  },
  {
   "cell_type": "code",
   "execution_count": 17,
   "metadata": {},
   "outputs": [
    {
     "name": "stdout",
     "output_type": "stream",
     "text": [
      "--- 0.12471222877502441 seconds ---\n",
      "Training erros func1:\n",
      "MAPE: 21.8131853871114\n",
      "RMSE: 3.246948357914098\n",
      "MAE: 2.4254306522067983\n",
      "R2: 0.8026041579852525\n",
      "\n",
      "Testing errors func1:\n",
      "MAPE: 64.54140041060008\n",
      "RMSE: 6.709502792487055\n",
      "MAE: 5.027442044863848\n",
      "R2: -0.0318796892691291\n",
      "\n",
      "\n",
      "Training erros func2:\n",
      "MAPE: 21.813760041631006\n",
      "RMSE: 3.2469438629885623\n",
      "MAE: 2.425445107441454\n",
      "R2: 0.8026047045162712\n",
      "\n",
      "Testing errors func2:\n",
      "MAPE: 64.5424993316836\n",
      "RMSE: 6.709661736526651\n",
      "MAE: 5.027437552205943\n",
      "R2: -0.03192857905244817\n",
      "\n",
      "\n",
      "\n",
      "\n",
      "\n",
      "\n"
     ]
    }
   ],
   "source": [
    "from sklearn.svm import SVR\n",
    "svr = SVR(kernel='poly', gamma='scale', coef0=0.0, epsilon=0.001, max_iter=-1)\n",
    "start_time = time.time()\n",
    "svr.fit(train_features, train_labels)\n",
    "print(\"--- %s seconds ---\" % (time.time() - start_time))\n",
    "train_pred_z1 = svr.predict(train_features)\n",
    "train_pred_z2 = svr.predict(train_features2)\n",
    "\n",
    "pred_z1 = svr.predict(test_features)\n",
    "pred_z2 = svr.predict(test_features2)\n",
    "\n",
    "yn_train = find_yn(train_pred_z1, y_sum, N)\n",
    "yn_test = find_yn(pred_z1, y_sum, N)\n",
    "\n",
    "yn_train2 = find_yn2(train_pred_z1, train_pred_z2, y_sum, N)\n",
    "yn_test2 = find_yn2(pred_z1, pred_z2, y_sum, N)\n",
    "    \n",
    "print('Training erros func1:')\n",
    "print(\"MAPE: \" + str(mean_absolute_percentage_error(y_target_train, yn_train)))\n",
    "print(\"RMSE: \" + str(root_mean_squared_error(y_target_train, yn_train)))\n",
    "print(\"MAE: \" + str(mean_absolute_error(y_target_train, yn_train)))\n",
    "print(\"R2: \" + str(r2_score(y_target_train, yn_train)))\n",
    "print()\n",
    "print('Testing errors func1:')\n",
    "print(\"MAPE: \" + str(mean_absolute_percentage_error(y_target_test, yn_test)))\n",
    "print(\"RMSE: \" + str(root_mean_squared_error(y_target_test, yn_test)))\n",
    "print(\"MAE: \" + str(mean_absolute_error(y_target_test, yn_test)))\n",
    "print(\"R2: \" + str(r2_score(y_target_test, yn_test)))\n",
    "print()\n",
    "print()\n",
    "print('Training erros func2:')\n",
    "print(\"MAPE: \" + str(mean_absolute_percentage_error(y_target_train, yn_train2)))\n",
    "print(\"RMSE: \" + str(root_mean_squared_error(y_target_train, yn_train2)))\n",
    "print(\"MAE: \" + str(mean_absolute_error(y_target_train, yn_train2)))\n",
    "print(\"R2: \" + str(r2_score(y_target_train, yn_train2)))\n",
    "print()\n",
    "print('Testing errors func2:')\n",
    "print(\"MAPE: \" + str(mean_absolute_percentage_error(y_target_test, yn_test2)))\n",
    "print(\"RMSE: \" + str(root_mean_squared_error(y_target_test, yn_test2)))\n",
    "print(\"MAE: \" + str(mean_absolute_error(y_target_test, yn_test2)))\n",
    "print(\"R2: \" + str(r2_score(y_target_test, yn_test2)))\n",
    "print()\n",
    "print()\n",
    "print()\n",
    "print()\n",
    "print()\n",
    "print()"
   ]
  },
  {
   "cell_type": "code",
   "execution_count": 18,
   "metadata": {},
   "outputs": [],
   "source": [
    "# "
   ]
  }
 ],
 "metadata": {
  "kernelspec": {
   "display_name": "Python 3 (ipykernel)",
   "language": "python",
   "name": "python3"
  },
  "language_info": {
   "codemirror_mode": {
    "name": "ipython",
    "version": 3
   },
   "file_extension": ".py",
   "mimetype": "text/x-python",
   "name": "python",
   "nbconvert_exporter": "python",
   "pygments_lexer": "ipython3",
   "version": "3.9.7"
  }
 },
 "nbformat": 4,
 "nbformat_minor": 4
}
